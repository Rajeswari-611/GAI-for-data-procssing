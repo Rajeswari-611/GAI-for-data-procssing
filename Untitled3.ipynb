{
  "nbformat": 4,
  "nbformat_minor": 0,
  "metadata": {
    "colab": {
      "provenance": [],
      "authorship_tag": "ABX9TyNad5xJ5whBRMoesFZ4uu0k",
      "include_colab_link": true
    },
    "kernelspec": {
      "name": "python3",
      "display_name": "Python 3"
    },
    "language_info": {
      "name": "python"
    }
  },
  "cells": [
    {
      "cell_type": "markdown",
      "metadata": {
        "id": "view-in-github",
        "colab_type": "text"
      },
      "source": [
        "<a href=\"https://colab.research.google.com/github/Rajeswari-611/GAI-for-data-procssing/blob/main/Untitled3.ipynb\" target=\"_parent\"><img src=\"https://colab.research.google.com/assets/colab-badge.svg\" alt=\"Open In Colab\"/></a>"
      ]
    },
    {
      "cell_type": "code",
      "source": [
        "!pip install pytesseract"
      ],
      "metadata": {
        "colab": {
          "base_uri": "https://localhost:8080/"
        },
        "id": "ffsbfqoItUs5",
        "outputId": "38e03cf5-ed6a-4977-f7f9-3fb485b0ac64"
      },
      "execution_count": 12,
      "outputs": [
        {
          "output_type": "stream",
          "name": "stdout",
          "text": [
            "Requirement already satisfied: pytesseract in /usr/local/lib/python3.11/dist-packages (0.3.13)\n",
            "Requirement already satisfied: packaging>=21.3 in /usr/local/lib/python3.11/dist-packages (from pytesseract) (25.0)\n",
            "Requirement already satisfied: Pillow>=8.0.0 in /usr/local/lib/python3.11/dist-packages (from pytesseract) (11.3.0)\n"
          ]
        }
      ]
    },
    {
      "cell_type": "code",
      "execution_count": 32,
      "metadata": {
        "id": "d-RqxIaGs4KY"
      },
      "outputs": [],
      "source": [
        "import pytesseract\n",
        "from PIL import Image\n",
        "from transformers import pipeline\n",
        "import re"
      ]
    },
    {
      "cell_type": "code",
      "metadata": {
        "id": "396b030c"
      },
      "source": [
        "\n",
        "input_image_path = \"/content/depositphotos_692632154-stock-photo-happy-written-apaper.jpg\"\n",
        "try:\n",
        "    input_image = Image.open(input_image_path)\n",
        "except FileNotFoundError:\n",
        "    print(f\"Error: Image file not found at {input_image_path}\")\n",
        "    input_image = None"
      ],
      "execution_count": 33,
      "outputs": []
    },
    {
      "cell_type": "code",
      "source": [
        "if input_image:\n",
        "    Text_output = pytesseract.image_to_string(input_image, lang='eng').strip()\n",
        "\n",
        "    Text_output = re.sub(r'\\s+', '', Text_output)\n",
        "else:\n",
        "    Text_output = \"\""
      ],
      "metadata": {
        "id": "jGZCzxcPvovL"
      },
      "execution_count": 34,
      "outputs": []
    },
    {
      "cell_type": "code",
      "source": [
        "\n",
        "if not Text_output:\n",
        "    print(\"No text found in the image.\")\n",
        "else:\n",
        "    print(f\"Extracted Text: {Text_output}\")\n",
        "\n",
        "\n",
        "    sentiment_analyzer = pipeline(\"sentiment-analysis\")\n",
        "\n",
        "    sentiment_result = sentiment_analyzer(Text_output)[0]\n",
        "\n",
        "    print(\"\\nSentiment Analysis : \")\n",
        "    print(f\"Text : {Text_output}\")\n",
        "    print(f\"Sentiment : {sentiment_result['label']}(score: {sentiment_result['score']:.2f})\\n\")"
      ],
      "metadata": {
        "id": "h18oU3oxwuxy",
        "colab": {
          "base_uri": "https://localhost:8080/"
        },
        "outputId": "0b28bb93-5acc-4eaf-cbcc-5ce3452f5d6f"
      },
      "execution_count": 35,
      "outputs": [
        {
          "output_type": "stream",
          "name": "stderr",
          "text": [
            "No model was supplied, defaulted to distilbert/distilbert-base-uncased-finetuned-sst-2-english and revision 714eb0f (https://huggingface.co/distilbert/distilbert-base-uncased-finetuned-sst-2-english).\n",
            "Using a pipeline without specifying a model name and revision in production is not recommended.\n"
          ]
        },
        {
          "output_type": "stream",
          "name": "stdout",
          "text": [
            "Extracted Text: BeHappy2\\\n"
          ]
        },
        {
          "output_type": "stream",
          "name": "stderr",
          "text": [
            "Device set to use cpu\n"
          ]
        },
        {
          "output_type": "stream",
          "name": "stdout",
          "text": [
            "\n",
            "Sentiment Analysis : \n",
            "Text : BeHappy2\\\n",
            "Sentiment : NEGATIVE(score: 0.95)\n",
            "\n"
          ]
        }
      ]
    },
    {
      "cell_type": "code",
      "metadata": {
        "colab": {
          "base_uri": "https://localhost:8080/"
        },
        "id": "b82bb00f",
        "outputId": "2b1fe129-2791-46bb-8854-55f7f500ab83"
      },
      "source": [
        "print(Text_output)"
      ],
      "execution_count": 36,
      "outputs": [
        {
          "output_type": "stream",
          "name": "stdout",
          "text": [
            "BeHappy2\\\n"
          ]
        }
      ]
    }
  ]
}